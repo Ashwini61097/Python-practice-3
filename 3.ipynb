{
 "cells": [
  {
   "cell_type": "markdown",
   "id": "8a7105d3",
   "metadata": {},
   "source": [
    "You are given two integer arrays of size\n",
    "N X P and M X P ( & are rows, and is the column). \n",
    "Your task is to concatenate the arrays along axis 0.\n"
   ]
  },
  {
   "cell_type": "code",
   "execution_count": 1,
   "id": "c460cc94",
   "metadata": {},
   "outputs": [
    {
     "name": "stdout",
     "output_type": "stream",
     "text": [
      "4 3 2 \n",
      "1 2\n",
      "1 2\n",
      "1 2\n",
      "1 2\n",
      "3 4\n",
      "3 4\n",
      "3 4\n",
      "[[1 2]\n",
      " [1 2]\n",
      " [1 2]\n",
      " [1 2]\n",
      " [3 4]\n",
      " [3 4]\n",
      " [3 4]]\n"
     ]
    }
   ],
   "source": [
    "import numpy\n",
    "\n",
    "n, m , p = list(map(int,input(\"\").strip().split()))[:3]\n",
    "#print(n,m,p)\n",
    "\n",
    "rows = [n,m]\n",
    "# input array1\n",
    "\n",
    "b1 = []\n",
    "for i in range(n):\n",
    "  a1 = list(map(int, input().split()))[:p]\n",
    "  b1.append(a1)\n",
    "array1 = numpy.array(b1)\n",
    "\n",
    "# input array2\n",
    "\n",
    "b2 = []\n",
    "for i in range(m):\n",
    "  a2 = list(map(int, input().split()))[:p]\n",
    "  b2.append(a2)\n",
    "array2 = numpy.array(b2)\n",
    "\n",
    "print (numpy.concatenate((array1, array2), axis = 0))"
   ]
  },
  {
   "cell_type": "code",
   "execution_count": null,
   "id": "70c27a4d",
   "metadata": {},
   "outputs": [],
   "source": []
  }
 ],
 "metadata": {
  "kernelspec": {
   "display_name": "Python 3 (ipykernel)",
   "language": "python",
   "name": "python3"
  },
  "language_info": {
   "codemirror_mode": {
    "name": "ipython",
    "version": 3
   },
   "file_extension": ".py",
   "mimetype": "text/x-python",
   "name": "python",
   "nbconvert_exporter": "python",
   "pygments_lexer": "ipython3",
   "version": "3.9.12"
  }
 },
 "nbformat": 4,
 "nbformat_minor": 5
}
